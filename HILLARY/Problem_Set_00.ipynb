{
 "cells": [
  {
   "cell_type": "markdown",
   "id": "f0f83680",
   "metadata": {},
   "source": [
    "# Gelila Yimtatu's Exploratory Data Analysis Project Description: Hillary Clinton Emails Dataset"
   ]
  },
  {
   "cell_type": "markdown",
   "id": "c08358a2",
   "metadata": {},
   "source": []
  }
 ],
 "metadata": {
  "kernelspec": {
   "display_name": "Python 3 (ipykernel)",
   "language": "python",
   "name": "python3"
  },
  "language_info": {
   "codemirror_mode": {
    "name": "ipython",
    "version": 3
   },
   "file_extension": ".py",
   "mimetype": "text/x-python",
   "name": "python",
   "nbconvert_exporter": "python",
   "pygments_lexer": "ipython3",
   "version": "3.9.12"
  }
 },
 "nbformat": 4,
 "nbformat_minor": 5
}
